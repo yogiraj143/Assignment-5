{
 "cells": [
  {
   "cell_type": "code",
   "execution_count": null,
   "id": "fa8ec031",
   "metadata": {},
   "outputs": [],
   "source": [
    "class power:\n",
    "       def pow(self, x, n):\n",
    "            if x==0 or x==1 or n==1:\n",
    "                return x \n",
    "\n",
    "            if x==-1:\n",
    "                if n%2 ==0:\n",
    "                    return 1\n",
    "                else:\n",
    "                    return -1\n",
    "            if n==0:\n",
    "                return 1\n",
    "            if n<0:\n",
    "                return 1/self.pow(x,-n)\n",
    "            val = self.pow(x,n//2)\n",
    "            if n%2 ==0:\n",
    "                return val*val\n",
    "            return val*val*x"
   ]
  },
  {
   "cell_type": "code",
   "execution_count": 2,
   "id": "93523868",
   "metadata": {},
   "outputs": [],
   "source": [
    "result = pow(10 , 2)"
   ]
  },
  {
   "cell_type": "code",
   "execution_count": 3,
   "id": "2293fb7a",
   "metadata": {},
   "outputs": [
    {
     "data": {
      "text/plain": [
       "100"
      ]
     },
     "execution_count": 3,
     "metadata": {},
     "output_type": "execute_result"
    }
   ],
   "source": [
    "result"
   ]
  },
  {
   "cell_type": "code",
   "execution_count": 4,
   "id": "46ecb072",
   "metadata": {},
   "outputs": [],
   "source": [
    "class Example:\n",
    "    def __init__(self,x,n):\n",
    "        self.x=x\n",
    "        self.n=n\n",
    "    def pow(self):\n",
    "        return self.x ** self.n"
   ]
  },
  {
   "cell_type": "code",
   "execution_count": 9,
   "id": "c8491138",
   "metadata": {},
   "outputs": [],
   "source": [
    "class Power:\n",
    "    def __init__(self,x,n):\n",
    "        self.x=x\n",
    "        self.n=n\n",
    "    def pow(self):\n",
    "        return self.x ** self.n"
   ]
  },
  {
   "cell_type": "code",
   "execution_count": 8,
   "id": "a2317a5a",
   "metadata": {},
   "outputs": [
    {
     "name": "stdout",
     "output_type": "stream",
     "text": [
      "<__main__.Example object at 0x0000027EDD1B4B50>\n"
     ]
    }
   ],
   "source": []
  },
  {
   "cell_type": "code",
   "execution_count": null,
   "id": "2bbcbf3c",
   "metadata": {},
   "outputs": [],
   "source": []
  }
 ],
 "metadata": {
  "kernelspec": {
   "display_name": "Python 3 (ipykernel)",
   "language": "python",
   "name": "python3"
  },
  "language_info": {
   "codemirror_mode": {
    "name": "ipython",
    "version": 3
   },
   "file_extension": ".py",
   "mimetype": "text/x-python",
   "name": "python",
   "nbconvert_exporter": "python",
   "pygments_lexer": "ipython3",
   "version": "3.10.0"
  }
 },
 "nbformat": 4,
 "nbformat_minor": 5
}
